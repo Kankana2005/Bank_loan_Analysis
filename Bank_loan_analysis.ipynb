{
 "cells": [
  {
   "cell_type": "markdown",
   "id": "1f3653bb",
   "metadata": {},
   "source": [
    "# **Bank Loan Analysis**"
   ]
  },
  {
   "cell_type": "markdown",
   "id": "d89c71de",
   "metadata": {},
   "source": [
    "#### Import Libraries"
   ]
  },
  {
   "cell_type": "code",
   "execution_count": 2,
   "id": "e247142b",
   "metadata": {},
   "outputs": [],
   "source": [
    "import numpy as np\n",
    "import pandas as pd\n",
    "import matplotlib as plt\n",
    "import seaborn as sns\n",
    "import warnings\n",
    "\n",
    "import plotly.express as px"
   ]
  },
  {
   "cell_type": "code",
   "execution_count": 3,
   "id": "23aedf03",
   "metadata": {},
   "outputs": [
    {
     "name": "stdout",
     "output_type": "stream",
     "text": [
      "        id address_state application_type emp_length              emp_title  \\\n",
      "0  1077430            GA       INDIVIDUAL   < 1 year                  Ryder   \n",
      "1  1072053            CA       INDIVIDUAL    9 years         MKC Accounting   \n",
      "2  1069243            CA       INDIVIDUAL    4 years  Chemat Technology Inc   \n",
      "3  1041756            TX       INDIVIDUAL   < 1 year    barnes distribution   \n",
      "4  1068350            IL       INDIVIDUAL  10+ years          J&J Steel Inc   \n",
      "\n",
      "  grade home_ownership issue_date last_credit_pull_date last_payment_date  \\\n",
      "0     C           RENT  2/11/2021             9/13/2021         4/13/2021   \n",
      "1     E           RENT   1/1/2021            12/14/2021         1/15/2021   \n",
      "2     C           RENT   1/5/2021            12/12/2021          1/9/2021   \n",
      "3     B       MORTGAGE  2/25/2021            12/12/2021         3/12/2021   \n",
      "4     A       MORTGAGE   1/1/2021            12/14/2021         1/15/2021   \n",
      "\n",
      "   ... sub_grade        term  verification_status annual_income     dti  \\\n",
      "0  ...        C4   60 months      Source Verified       30000.0  0.0100   \n",
      "1  ...        E1   36 months      Source Verified       48000.0  0.0535   \n",
      "2  ...        C5   36 months         Not Verified       50000.0  0.2088   \n",
      "3  ...        B2   60 months      Source Verified       42000.0  0.0540   \n",
      "4  ...        A1   36 months             Verified       83000.0  0.0231   \n",
      "\n",
      "  installment int_rate  loan_amount  total_acc  total_payment  \n",
      "0       59.83   0.1527         2500          4           1009  \n",
      "1      109.43   0.1864         3000          4           3939  \n",
      "2      421.65   0.1596        12000         11           3522  \n",
      "3       97.06   0.1065         4500          9           4911  \n",
      "4      106.53   0.0603         3500         28           3835  \n",
      "\n",
      "[5 rows x 24 columns]\n"
     ]
    }
   ],
   "source": [
    "import pandas as pd\n",
    "\n",
    "df = pd.read_csv(\"financial_loan.csv\")\n",
    "print(df.head())\n"
   ]
  },
  {
   "cell_type": "code",
   "execution_count": 4,
   "id": "803ef601",
   "metadata": {},
   "outputs": [
    {
     "data": {
      "text/plain": [
       "<bound method NDFrame.tail of             id address_state application_type emp_length  \\\n",
       "0      1077430            GA       INDIVIDUAL   < 1 year   \n",
       "1      1072053            CA       INDIVIDUAL    9 years   \n",
       "2      1069243            CA       INDIVIDUAL    4 years   \n",
       "3      1041756            TX       INDIVIDUAL   < 1 year   \n",
       "4      1068350            IL       INDIVIDUAL  10+ years   \n",
       "...        ...           ...              ...        ...   \n",
       "38571   803452            NJ       INDIVIDUAL   < 1 year   \n",
       "38572   970377            NY       INDIVIDUAL    8 years   \n",
       "38573   875376            CA       INDIVIDUAL    5 years   \n",
       "38574   972997            NY       INDIVIDUAL    5 years   \n",
       "38575   682952            NY       INDIVIDUAL    4 years   \n",
       "\n",
       "                             emp_title grade home_ownership  issue_date  \\\n",
       "0                                Ryder     C           RENT   2/11/2021   \n",
       "1                       MKC Accounting     E           RENT    1/1/2021   \n",
       "2                Chemat Technology Inc     C           RENT    1/5/2021   \n",
       "3                  barnes distribution     B       MORTGAGE   2/25/2021   \n",
       "4                        J&J Steel Inc     A       MORTGAGE    1/1/2021   \n",
       "...                                ...   ...            ...         ...   \n",
       "38571         Joseph M Sanzari Company     C       MORTGAGE   7/11/2021   \n",
       "38572                        Swat Fame     C           RENT  10/11/2021   \n",
       "38573  Anaheim Regional Medical Center     D           RENT   9/11/2021   \n",
       "38574               Brooklyn Radiology     D           RENT  10/11/2021   \n",
       "38575                    Allen Edmonds     F           RENT   7/11/2021   \n",
       "\n",
       "      last_credit_pull_date last_payment_date  ... sub_grade        term  \\\n",
       "0                 9/13/2021         4/13/2021  ...        C4   60 months   \n",
       "1                12/14/2021         1/15/2021  ...        E1   36 months   \n",
       "2                12/12/2021          1/9/2021  ...        C5   36 months   \n",
       "3                12/12/2021         3/12/2021  ...        B2   60 months   \n",
       "4                12/14/2021         1/15/2021  ...        A1   36 months   \n",
       "...                     ...               ...  ...       ...         ...   \n",
       "38571             5/16/2021         5/16/2021  ...        C1   60 months   \n",
       "38572             4/16/2021         5/16/2021  ...        C1   60 months   \n",
       "38573             5/16/2021         5/16/2021  ...        D5   60 months   \n",
       "38574             5/16/2021         5/16/2021  ...        D5   60 months   \n",
       "38575             5/16/2021         5/16/2021  ...        F3   60 months   \n",
       "\n",
       "       verification_status annual_income     dti installment int_rate  \\\n",
       "0          Source Verified       30000.0  0.0100       59.83   0.1527   \n",
       "1          Source Verified       48000.0  0.0535      109.43   0.1864   \n",
       "2             Not Verified       50000.0  0.2088      421.65   0.1596   \n",
       "3          Source Verified       42000.0  0.0540       97.06   0.1065   \n",
       "4                 Verified       83000.0  0.0231      106.53   0.0603   \n",
       "...                    ...           ...     ...         ...      ...   \n",
       "38571             Verified      100000.0  0.1986      551.64   0.1299   \n",
       "38572             Verified       50000.0  0.0458      579.72   0.1349   \n",
       "38573             Verified       65000.0  0.1734      627.93   0.1749   \n",
       "38574             Verified      368000.0  0.0009      612.72   0.1825   \n",
       "38575             Verified       80000.0  0.0600      486.86   0.2099   \n",
       "\n",
       "       loan_amount  total_acc  total_payment  \n",
       "0             2500          4           1009  \n",
       "1             3000          4           3939  \n",
       "2            12000         11           3522  \n",
       "3             4500          9           4911  \n",
       "4             3500         28           3835  \n",
       "...            ...        ...            ...  \n",
       "38571        24250         33          31946  \n",
       "38572        25200         18          31870  \n",
       "38573        25000         20          35721  \n",
       "38574        24000          9          33677  \n",
       "38575        18000          7          27679  \n",
       "\n",
       "[38576 rows x 24 columns]>"
      ]
     },
     "execution_count": 4,
     "metadata": {},
     "output_type": "execute_result"
    }
   ],
   "source": [
    "df.tail"
   ]
  },
  {
   "cell_type": "markdown",
   "id": "637f9faa",
   "metadata": {},
   "source": [
    "#### Metadata of the data"
   ]
  },
  {
   "cell_type": "code",
   "execution_count": 5,
   "id": "e2c89679",
   "metadata": {},
   "outputs": [
    {
     "name": "stdout",
     "output_type": "stream",
     "text": [
      "No of rows: 38576\n",
      "No of columns: 24\n"
     ]
    }
   ],
   "source": [
    "print(\"No of rows:\",df.shape[0])\n",
    "print(\"No of columns:\",df.shape[1])\n"
   ]
  },
  {
   "cell_type": "code",
   "execution_count": 6,
   "id": "4ba32319",
   "metadata": {},
   "outputs": [
    {
     "name": "stdout",
     "output_type": "stream",
     "text": [
      "<class 'pandas.core.frame.DataFrame'>\n",
      "RangeIndex: 38576 entries, 0 to 38575\n",
      "Data columns (total 24 columns):\n",
      " #   Column                 Non-Null Count  Dtype  \n",
      "---  ------                 --------------  -----  \n",
      " 0   id                     38576 non-null  int64  \n",
      " 1   address_state          38576 non-null  object \n",
      " 2   application_type       38576 non-null  object \n",
      " 3   emp_length             38576 non-null  object \n",
      " 4   emp_title              37138 non-null  object \n",
      " 5   grade                  38576 non-null  object \n",
      " 6   home_ownership         38576 non-null  object \n",
      " 7   issue_date             38576 non-null  object \n",
      " 8   last_credit_pull_date  38576 non-null  object \n",
      " 9   last_payment_date      38576 non-null  object \n",
      " 10  loan_status            38576 non-null  object \n",
      " 11  next_payment_date      38576 non-null  object \n",
      " 12  member_id              38576 non-null  int64  \n",
      " 13  purpose                38576 non-null  object \n",
      " 14  sub_grade              38576 non-null  object \n",
      " 15  term                   38576 non-null  object \n",
      " 16  verification_status    38576 non-null  object \n",
      " 17  annual_income          38576 non-null  float64\n",
      " 18  dti                    38576 non-null  float64\n",
      " 19  installment            38576 non-null  float64\n",
      " 20  int_rate               38576 non-null  float64\n",
      " 21  loan_amount            38576 non-null  int64  \n",
      " 22  total_acc              38576 non-null  int64  \n",
      " 23  total_payment          38576 non-null  int64  \n",
      "dtypes: float64(4), int64(5), object(15)\n",
      "memory usage: 7.1+ MB\n"
     ]
    }
   ],
   "source": [
    "df.info()"
   ]
  },
  {
   "cell_type": "markdown",
   "id": "cf582fe6",
   "metadata": {},
   "source": [
    "#### Data Types"
   ]
  },
  {
   "cell_type": "code",
   "execution_count": 7,
   "id": "8b2ba6c9",
   "metadata": {},
   "outputs": [
    {
     "data": {
      "text/plain": [
       "id                         int64\n",
       "address_state             object\n",
       "application_type          object\n",
       "emp_length                object\n",
       "emp_title                 object\n",
       "grade                     object\n",
       "home_ownership            object\n",
       "issue_date                object\n",
       "last_credit_pull_date     object\n",
       "last_payment_date         object\n",
       "loan_status               object\n",
       "next_payment_date         object\n",
       "member_id                  int64\n",
       "purpose                   object\n",
       "sub_grade                 object\n",
       "term                      object\n",
       "verification_status       object\n",
       "annual_income            float64\n",
       "dti                      float64\n",
       "installment              float64\n",
       "int_rate                 float64\n",
       "loan_amount                int64\n",
       "total_acc                  int64\n",
       "total_payment              int64\n",
       "dtype: object"
      ]
     },
     "execution_count": 7,
     "metadata": {},
     "output_type": "execute_result"
    }
   ],
   "source": [
    "df.dtypes"
   ]
  },
  {
   "cell_type": "code",
   "execution_count": 8,
   "id": "8b1295ef",
   "metadata": {},
   "outputs": [
    {
     "data": {
      "text/html": [
       "<div>\n",
       "<style scoped>\n",
       "    .dataframe tbody tr th:only-of-type {\n",
       "        vertical-align: middle;\n",
       "    }\n",
       "\n",
       "    .dataframe tbody tr th {\n",
       "        vertical-align: top;\n",
       "    }\n",
       "\n",
       "    .dataframe thead th {\n",
       "        text-align: right;\n",
       "    }\n",
       "</style>\n",
       "<table border=\"1\" class=\"dataframe\">\n",
       "  <thead>\n",
       "    <tr style=\"text-align: right;\">\n",
       "      <th></th>\n",
       "      <th>id</th>\n",
       "      <th>member_id</th>\n",
       "      <th>annual_income</th>\n",
       "      <th>dti</th>\n",
       "      <th>installment</th>\n",
       "      <th>int_rate</th>\n",
       "      <th>loan_amount</th>\n",
       "      <th>total_acc</th>\n",
       "      <th>total_payment</th>\n",
       "    </tr>\n",
       "  </thead>\n",
       "  <tbody>\n",
       "    <tr>\n",
       "      <th>count</th>\n",
       "      <td>3.857600e+04</td>\n",
       "      <td>3.857600e+04</td>\n",
       "      <td>3.857600e+04</td>\n",
       "      <td>38576.000000</td>\n",
       "      <td>38576.000000</td>\n",
       "      <td>38576.000000</td>\n",
       "      <td>38576.000000</td>\n",
       "      <td>38576.000000</td>\n",
       "      <td>38576.000000</td>\n",
       "    </tr>\n",
       "    <tr>\n",
       "      <th>mean</th>\n",
       "      <td>6.810371e+05</td>\n",
       "      <td>8.476515e+05</td>\n",
       "      <td>6.964454e+04</td>\n",
       "      <td>0.133274</td>\n",
       "      <td>326.862965</td>\n",
       "      <td>0.120488</td>\n",
       "      <td>11296.066855</td>\n",
       "      <td>22.132544</td>\n",
       "      <td>12263.348533</td>\n",
       "    </tr>\n",
       "    <tr>\n",
       "      <th>std</th>\n",
       "      <td>2.113246e+05</td>\n",
       "      <td>2.668105e+05</td>\n",
       "      <td>6.429368e+04</td>\n",
       "      <td>0.066662</td>\n",
       "      <td>209.092000</td>\n",
       "      <td>0.037164</td>\n",
       "      <td>7460.746022</td>\n",
       "      <td>11.392282</td>\n",
       "      <td>9051.104777</td>\n",
       "    </tr>\n",
       "    <tr>\n",
       "      <th>min</th>\n",
       "      <td>5.473400e+04</td>\n",
       "      <td>7.069900e+04</td>\n",
       "      <td>4.000000e+03</td>\n",
       "      <td>0.000000</td>\n",
       "      <td>15.690000</td>\n",
       "      <td>0.054200</td>\n",
       "      <td>500.000000</td>\n",
       "      <td>2.000000</td>\n",
       "      <td>34.000000</td>\n",
       "    </tr>\n",
       "    <tr>\n",
       "      <th>25%</th>\n",
       "      <td>5.135170e+05</td>\n",
       "      <td>6.629788e+05</td>\n",
       "      <td>4.150000e+04</td>\n",
       "      <td>0.082100</td>\n",
       "      <td>168.450000</td>\n",
       "      <td>0.093200</td>\n",
       "      <td>5500.000000</td>\n",
       "      <td>14.000000</td>\n",
       "      <td>5633.000000</td>\n",
       "    </tr>\n",
       "    <tr>\n",
       "      <th>50%</th>\n",
       "      <td>6.627280e+05</td>\n",
       "      <td>8.473565e+05</td>\n",
       "      <td>6.000000e+04</td>\n",
       "      <td>0.134200</td>\n",
       "      <td>283.045000</td>\n",
       "      <td>0.118600</td>\n",
       "      <td>10000.000000</td>\n",
       "      <td>20.000000</td>\n",
       "      <td>10042.000000</td>\n",
       "    </tr>\n",
       "    <tr>\n",
       "      <th>75%</th>\n",
       "      <td>8.365060e+05</td>\n",
       "      <td>1.045652e+06</td>\n",
       "      <td>8.320050e+04</td>\n",
       "      <td>0.185900</td>\n",
       "      <td>434.442500</td>\n",
       "      <td>0.145900</td>\n",
       "      <td>15000.000000</td>\n",
       "      <td>29.000000</td>\n",
       "      <td>16658.000000</td>\n",
       "    </tr>\n",
       "    <tr>\n",
       "      <th>max</th>\n",
       "      <td>1.077501e+06</td>\n",
       "      <td>1.314167e+06</td>\n",
       "      <td>6.000000e+06</td>\n",
       "      <td>0.299900</td>\n",
       "      <td>1305.190000</td>\n",
       "      <td>0.245900</td>\n",
       "      <td>35000.000000</td>\n",
       "      <td>90.000000</td>\n",
       "      <td>58564.000000</td>\n",
       "    </tr>\n",
       "  </tbody>\n",
       "</table>\n",
       "</div>"
      ],
      "text/plain": [
       "                 id     member_id  annual_income           dti   installment  \\\n",
       "count  3.857600e+04  3.857600e+04   3.857600e+04  38576.000000  38576.000000   \n",
       "mean   6.810371e+05  8.476515e+05   6.964454e+04      0.133274    326.862965   \n",
       "std    2.113246e+05  2.668105e+05   6.429368e+04      0.066662    209.092000   \n",
       "min    5.473400e+04  7.069900e+04   4.000000e+03      0.000000     15.690000   \n",
       "25%    5.135170e+05  6.629788e+05   4.150000e+04      0.082100    168.450000   \n",
       "50%    6.627280e+05  8.473565e+05   6.000000e+04      0.134200    283.045000   \n",
       "75%    8.365060e+05  1.045652e+06   8.320050e+04      0.185900    434.442500   \n",
       "max    1.077501e+06  1.314167e+06   6.000000e+06      0.299900   1305.190000   \n",
       "\n",
       "           int_rate   loan_amount     total_acc  total_payment  \n",
       "count  38576.000000  38576.000000  38576.000000   38576.000000  \n",
       "mean       0.120488  11296.066855     22.132544   12263.348533  \n",
       "std        0.037164   7460.746022     11.392282    9051.104777  \n",
       "min        0.054200    500.000000      2.000000      34.000000  \n",
       "25%        0.093200   5500.000000     14.000000    5633.000000  \n",
       "50%        0.118600  10000.000000     20.000000   10042.000000  \n",
       "75%        0.145900  15000.000000     29.000000   16658.000000  \n",
       "max        0.245900  35000.000000     90.000000   58564.000000  "
      ]
     },
     "execution_count": 8,
     "metadata": {},
     "output_type": "execute_result"
    }
   ],
   "source": [
    "df.describe()"
   ]
  },
  {
   "cell_type": "markdown",
   "id": "8df775c0",
   "metadata": {},
   "source": [
    "#### Total Loan Applications"
   ]
  },
  {
   "cell_type": "code",
   "execution_count": 9,
   "id": "2a444353",
   "metadata": {},
   "outputs": [
    {
     "name": "stdout",
     "output_type": "stream",
     "text": [
      "Total Loan Applications: 38576\n"
     ]
    }
   ],
   "source": [
    "total_loan_applications = df['id'].count()\n",
    "print(\"Total Loan Applications:\",total_loan_applications)"
   ]
  },
  {
   "cell_type": "markdown",
   "id": "84bb347b",
   "metadata": {},
   "source": [
    "#### MTD Total Loan Applications"
   ]
  },
  {
   "cell_type": "code",
   "execution_count": null,
   "id": "2e0f35e6",
   "metadata": {},
   "outputs": [
    {
     "name": "stdout",
     "output_type": "stream",
     "text": [
      "MTD loan applications (for December 2021): 4314\n"
     ]
    }
   ],
   "source": [
    "# Convert issue_date to datetime\n",
    "df['issue_date'] = pd.to_datetime(df['issue_date'])\n",
    "\n",
    "latest_issue_date = df[\"issue_date\"].max()\n",
    "latest_year = latest_issue_date.year\n",
    "latest_month = latest_issue_date.month\n",
    "\n",
    "mtd_data = df[(df['issue_date'].dt.year == latest_year) & (df['issue_date'].dt.month == latest_month)]\n",
    "mtd_loan_applications = mtd_data['id'].count()\n",
    "\n",
    "print(f\"MTD loan applications (for {latest_issue_date.strftime('%B %Y')}): {mtd_loan_applications}\")\n"
   ]
  },
  {
   "cell_type": "markdown",
   "id": "24ec21f6",
   "metadata": {},
   "source": [
    "#### Total Funded Amount"
   ]
  },
  {
   "cell_type": "code",
   "execution_count": 17,
   "id": "71633d99",
   "metadata": {},
   "outputs": [
    {
     "name": "stdout",
     "output_type": "stream",
     "text": [
      "Total funded amount: $435.757075M\n"
     ]
    }
   ],
   "source": [
    "total_funded_amount = df[\"loan_amount\"].sum()\n",
    "total_funded_amt_millions = total_funded_amount/1000000\n",
    "print(\"Total funded amount: ${:2f}M\".format(total_funded_amt_millions))"
   ]
  },
  {
   "cell_type": "markdown",
   "id": "b1e49409",
   "metadata": {},
   "source": [
    "#### MTD Total Funded Amount"
   ]
  },
  {
   "cell_type": "code",
   "execution_count": 25,
   "id": "aded24e8",
   "metadata": {},
   "outputs": [
    {
     "name": "stdout",
     "output_type": "stream",
     "text": [
      "MTD Total funded amount: $53.981425M\n"
     ]
    }
   ],
   "source": [
    "df['issue_date'] = pd.to_datetime(df['issue_date'])\n",
    "\n",
    "latest_issue_date = df[\"issue_date\"].max()\n",
    "latest_year = latest_issue_date.year\n",
    "latest_month = latest_issue_date.month\n",
    "\n",
    "mtd_data = df[(df['issue_date'].dt.year == latest_year) & (df['issue_date'].dt.month == latest_month)]\n",
    "\n",
    "mtd_total_funded_amt = mtd_data['loan_amount'].sum()\n",
    "mtd_total_funded_amt_millions = mtd_total_funded_amt/1000000\n",
    "\n",
    "print(\"MTD Total funded amount: ${:2f}M\".format(mtd_total_funded_amt_millions))\n",
    "\n",
    "\n"
   ]
  },
  {
   "cell_type": "markdown",
   "id": "9118fd04",
   "metadata": {},
   "source": [
    "#### Total Amount Recieved"
   ]
  },
  {
   "cell_type": "code",
   "execution_count": 29,
   "id": "338f9b7c",
   "metadata": {},
   "outputs": [
    {
     "name": "stdout",
     "output_type": "stream",
     "text": [
      "Total amount received: $473.07M\n"
     ]
    }
   ],
   "source": [
    "total_amount_recieved = df['total_payment'].sum()\n",
    "total_amt_recieved_millions = total_amount_recieved/1000000\n",
    "print(\"Total amount received: ${:.2f}M\".format (total_amt_recieved_millions))"
   ]
  },
  {
   "cell_type": "markdown",
   "id": "ac0f043b",
   "metadata": {},
   "source": [
    "#### MTD Total Amount Recieved"
   ]
  },
  {
   "cell_type": "code",
   "execution_count": 34,
   "id": "0254e55a",
   "metadata": {},
   "outputs": [
    {
     "name": "stdout",
     "output_type": "stream",
     "text": [
      "MTD Total amount recieved: $58.07M\n"
     ]
    }
   ],
   "source": [
    "df['issue_date'] = pd.to_datetime(df['issue_date'])\n",
    "latest_issue_date = df['issue_date'].max()\n",
    "latest_month = latest_issue_date.month\n",
    "\n",
    "mtd_data = df[(df['issue_date'].dt.year == latest_year) & (df[\"issue_date\"].dt.month == latest_month)]\n",
    "\n",
    "mtd_total_amount_received = mtd_data['total_payment'].sum()\n",
    "mtd_total_amount_recieved_millions = mtd_total_amount_received/1000000\n",
    "\n",
    "print(\"MTD Total amount recieved: ${:.2f}M\".format(mtd_total_amount_recieved_millions))\n",
    "\n"
   ]
  },
  {
   "cell_type": "markdown",
   "id": "0ea39a03",
   "metadata": {},
   "source": [
    "#### Average Interest Rate"
   ]
  },
  {
   "cell_type": "code",
   "execution_count": 36,
   "id": "33fc87a9",
   "metadata": {},
   "outputs": [
    {
     "name": "stdout",
     "output_type": "stream",
     "text": [
      "Average interest rate:12.05% \n"
     ]
    }
   ],
   "source": [
    "avg_interest_rate = df[\"int_rate\"].mean()*100\n",
    "\n",
    "print(\"Average interest rate:{:.2f}% \".format(avg_interest_rate))"
   ]
  },
  {
   "cell_type": "markdown",
   "id": "0f01cc17",
   "metadata": {},
   "source": [
    "#### Average Debt-To-Income Ratio (DTI)"
   ]
  },
  {
   "cell_type": "code",
   "execution_count": 37,
   "id": "70ed38c6",
   "metadata": {},
   "outputs": [
    {
     "name": "stdout",
     "output_type": "stream",
     "text": [
      "Average DTI:13.33%\n"
     ]
    }
   ],
   "source": [
    "avg_dti = df[\"dti\"].mean()*100\n",
    "print(\"Average DTI:{:.2f}%\".format(avg_dti))"
   ]
  },
  {
   "cell_type": "markdown",
   "id": "39d1cc01",
   "metadata": {},
   "source": []
  }
 ],
 "metadata": {
  "kernelspec": {
   "display_name": ".venv",
   "language": "python",
   "name": "python3"
  },
  "language_info": {
   "codemirror_mode": {
    "name": "ipython",
    "version": 3
   },
   "file_extension": ".py",
   "mimetype": "text/x-python",
   "name": "python",
   "nbconvert_exporter": "python",
   "pygments_lexer": "ipython3",
   "version": "3.11.4"
  }
 },
 "nbformat": 4,
 "nbformat_minor": 5
}
